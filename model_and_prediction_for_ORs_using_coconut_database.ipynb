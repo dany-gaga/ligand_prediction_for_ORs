{
  "nbformat": 4,
  "nbformat_minor": 0,
  "metadata": {
    "colab": {
      "provenance": [],
      "authorship_tag": "ABX9TyOtvnASvvrP5Vv8TXSqycTP",
      "include_colab_link": true
    },
    "kernelspec": {
      "name": "python3",
      "display_name": "Python 3"
    },
    "language_info": {
      "name": "python"
    }
  },
  "cells": [
    {
      "cell_type": "markdown",
      "metadata": {
        "id": "view-in-github",
        "colab_type": "text"
      },
      "source": [
        "<a href=\"https://colab.research.google.com/github/dany-gaga/ligand_prediction_for_ORs/blob/notebook/model_and_prediction_for_ORs_using_coconut_database.ipynb\" target=\"_parent\"><img src=\"https://colab.research.google.com/assets/colab-badge.svg\" alt=\"Open In Colab\"/></a>"
      ]
    },
    {
      "cell_type": "code",
      "source": [
        "# run this code to mount Google Drive\n",
        "from google.colab import drive\n",
        "drive.mount('/content/gdrive/')"
      ],
      "metadata": {
        "colab": {
          "base_uri": "https://localhost:8080/"
        },
        "id": "UmGMP5D12iF3",
        "outputId": "ceba90c0-b7a4-4de7-ad94-b4748f787d00"
      },
      "execution_count": null,
      "outputs": [
        {
          "output_type": "stream",
          "name": "stdout",
          "text": [
            "Drive already mounted at /content/gdrive/; to attempt to forcibly remount, call drive.mount(\"/content/gdrive/\", force_remount=True).\n"
          ]
        }
      ]
    },
    {
      "cell_type": "code",
      "source": [
        "%cd /content/gdrive/MyDrive/ml_model_for_Serge"
      ],
      "metadata": {
        "colab": {
          "base_uri": "https://localhost:8080/"
        },
        "id": "cOxUCot620tg",
        "outputId": "bbe57e5a-b1c1-4827-b7d9-4e79b401bfc9"
      },
      "execution_count": null,
      "outputs": [
        {
          "output_type": "stream",
          "name": "stdout",
          "text": [
            "/content/gdrive/MyDrive/ml_model_for_Serge\n"
          ]
        }
      ]
    },
    {
      "cell_type": "code",
      "source": [
        "!pip install rdkit"
      ],
      "metadata": {
        "colab": {
          "base_uri": "https://localhost:8080/"
        },
        "id": "aS9pEZu51pEC",
        "outputId": "0feeaef2-631f-4be5-b68f-4e2a115ffc62"
      },
      "execution_count": null,
      "outputs": [
        {
          "output_type": "stream",
          "name": "stdout",
          "text": [
            "Requirement already satisfied: rdkit in /usr/local/lib/python3.10/dist-packages (2023.9.5)\n",
            "Requirement already satisfied: numpy in /usr/local/lib/python3.10/dist-packages (from rdkit) (1.25.2)\n",
            "Requirement already satisfied: Pillow in /usr/local/lib/python3.10/dist-packages (from rdkit) (9.4.0)\n"
          ]
        }
      ]
    },
    {
      "cell_type": "code",
      "execution_count": null,
      "metadata": {
        "id": "PC0EwGEG1f_c"
      },
      "outputs": [],
      "source": [
        "import pandas as pd\n",
        "import numpy as np\n",
        "import rdkit\n",
        "from rdkit.Chem import PandasTools\n",
        "from rdkit.Chem.Draw import IPythonConsole\n",
        "IPythonConsole.ipython_useSVG=True  #< set this to False if you want PNGs instead of SVGs\n",
        "from functools import reduce\n",
        "from sklearn.model_selection import train_test_split\n",
        "import tensorflow  as tf\n",
        "import keras\n",
        "from tensorflow.keras import optimizers\n",
        "from tensorflow.keras import regularizers\n",
        "from tensorflow.keras.utils import to_categorical\n",
        "from tensorflow.keras.utils import CustomObjectScope\n",
        "from tensorflow.keras.preprocessing.text import Tokenizer\n",
        "from tensorflow.keras.callbacks import EarlyStopping\n",
        "from tensorflow.keras.models import Model, save_model, load_model\n",
        "from tensorflow.keras.preprocessing.sequence import pad_sequences\n",
        "from keras.layers import Input,Dropout, Embedding, Concatenate,Conv1D,GlobalAveragePooling1D, Dense\n",
        "from keras.models import Model, load_model\n",
        "import matplotlib.pyplot as plt\n",
        "tf.random.set_seed(42) # for constant random"
      ]
    },
    {
      "cell_type": "markdown",
      "source": [
        "Reviewed"
      ],
      "metadata": {
        "id": "G-2k7yg5CsGW"
      }
    },
    {
      "cell_type": "code",
      "source": [
        "!wget https://www.bindingdb.org/bind/downloads/BindingDB_All_202403_tsv.zip"
      ],
      "metadata": {
        "colab": {
          "base_uri": "https://localhost:8080/"
        },
        "id": "h7QywR39DHsy",
        "outputId": "1ff1ddc0-79b4-4517-8b32-f4c2fe015055"
      },
      "execution_count": null,
      "outputs": [
        {
          "output_type": "stream",
          "name": "stdout",
          "text": [
            "--2024-03-25 14:45:01--  https://www.bindingdb.org/bind/downloads/BindingDB_All_202403_tsv.zip\n",
            "Resolving www.bindingdb.org (www.bindingdb.org)... 137.110.139.247\n",
            "Connecting to www.bindingdb.org (www.bindingdb.org)|137.110.139.247|:443... connected.\n",
            "HTTP request sent, awaiting response... 200 200\n",
            "Length: 481248218 (459M) [application/zip]\n",
            "Saving to: ‘BindingDB_All_202403_tsv.zip’\n",
            "\n",
            "BindingDB_All_20240 100%[===================>] 458.95M  7.66MB/s    in 51s     \n",
            "\n",
            "2024-03-25 14:45:53 (9.08 MB/s) - ‘BindingDB_All_202403_tsv.zip’ saved [481248218/481248218]\n",
            "\n"
          ]
        }
      ]
    },
    {
      "cell_type": "code",
      "source": [
        "columns=[ 'Ligand SMILES', 'Ki (nM)','BindingDB Target Chain Sequence']\n",
        "df = pd.read_csv(\"/content/gdrive/MyDrive/ml_model_for_Serge/BindingDB_All_202403_tsv.zip\",delimiter=\"\\t\",usecols=columns)\n",
        "df = df[df[\"Ki (nM)\"].notna()]"
      ],
      "metadata": {
        "colab": {
          "base_uri": "https://localhost:8080/"
        },
        "id": "ABkiLXoqCq9j",
        "outputId": "773fd57b-719f-451a-9272-b38fa7c3af4f"
      },
      "execution_count": null,
      "outputs": [
        {
          "output_type": "stream",
          "name": "stderr",
          "text": [
            "<ipython-input-8-0f69b816c5dd>:2: DtypeWarning: Columns (8) have mixed types. Specify dtype option on import or set low_memory=False.\n",
            "  df = pd.read_csv(\"/content/gdrive/MyDrive/ml_model_for_Serge/BindingDB_All_202403_tsv.zip\",delimiter=\"\\t\",usecols=columns)\n"
          ]
        }
      ]
    },
    {
      "cell_type": "code",
      "source": [
        "df\n"
      ],
      "metadata": {
        "colab": {
          "base_uri": "https://localhost:8080/",
          "height": 424
        },
        "id": "udTqyjqjFXFd",
        "outputId": "cce79b50-6971-453d-a5e0-23c7943f1e7e"
      },
      "execution_count": null,
      "outputs": [
        {
          "output_type": "execute_result",
          "data": {
            "text/plain": [
              "                                             Ligand SMILES    Ki (nM)  \\\n",
              "0        O[C@@H]1[C@@H](O)[C@@H](Cc2ccccc2)N(CCCCCC(O)=...       0.24   \n",
              "1        O[C@@H]1[C@@H](O)[C@@H](Cc2ccccc2)N(C\\C=C\\c2cn...       0.25   \n",
              "2        O[C@@H]1[C@@H](O)[C@@H](Cc2ccccc2)N(CC2CC2)C(=...       0.41   \n",
              "3        OCCCCCCN1[C@H](Cc2ccccc2)[C@H](O)[C@@H](O)[C@@...        0.8   \n",
              "4        OCCCCCN1[C@H](Cc2ccccc2)[C@H](O)[C@@H](O)[C@@H...       0.99   \n",
              "...                                                    ...        ...   \n",
              "2836924          COc1cccc2c(ccc(O)c12)-c1ccc2cccc(OC)c2c1O       6600   \n",
              "2836925            CCc1ccc(CCOc2ccc(CC3SC(=O)NC3=O)cc2)nc1        600   \n",
              "2836926  CN(CCOc1ccc(C[C@H](Nc2ccccc2C(=O)c2ccccc2)C(O)...        2.0   \n",
              "2836927  COc1cccc2ccc(c(O)c12)-c1cc(-c2ccc3cccc(OC)c3c2...      18800   \n",
              "2836928  Cc1nc(sc1CSc1ccc(OCC(O)=O)c(C)c1)-c1ccc(cc1)C(...   1.000000   \n",
              "\n",
              "                           BindingDB Target Chain Sequence  \n",
              "0        PQITLWQRPLVTIKIGGQLKEALLDTGADDTVLEEMSLPGRWKPKM...  \n",
              "1        PQITLWQRPLVTIKIGGQLKEALLDTGADDTVLEEMSLPGRWKPKM...  \n",
              "2        PQITLWQRPLVTIKIGGQLKEALLDTGADDTVLEEMSLPGRWKPKM...  \n",
              "3        PQITLWQRPLVTIKIGGQLKEALLDTGADDTVLEEMSLPGRWKPKM...  \n",
              "4        PQITLWQRPLVTIKIGGQLKEALLDTGADDTVLEEMSLPGRWKPKM...  \n",
              "...                                                    ...  \n",
              "2836924  MGETLGDSPIDPESDSFTDTLSANISQEMTMVDTEMPFWPTNFGIS...  \n",
              "2836925  MGETLGDSPIDPESDSFTDTLSANISQEMTMVDTEMPFWPTNFGIS...  \n",
              "2836926  MGETLGDSPIDPESDSFTDTLSANISQEMTMVDTEMPFWPTNFGIS...  \n",
              "2836927  MEQPQEEAPEVREEEEKEEVAEAEGAPELNGGPQHALPSSSYTDLS...  \n",
              "2836928  MEQPQEEAPEVREEEEKEEVAEAEGAPELNGGPQHALPSSSYTDLS...  \n",
              "\n",
              "[584742 rows x 3 columns]"
            ],
            "text/html": [
              "\n",
              "  <div id=\"df-1b3a87ed-0ee9-4769-bf43-d0794e6ae301\" class=\"colab-df-container\">\n",
              "    <div>\n",
              "<style scoped>\n",
              "    .dataframe tbody tr th:only-of-type {\n",
              "        vertical-align: middle;\n",
              "    }\n",
              "\n",
              "    .dataframe tbody tr th {\n",
              "        vertical-align: top;\n",
              "    }\n",
              "\n",
              "    .dataframe thead th {\n",
              "        text-align: right;\n",
              "    }\n",
              "</style>\n",
              "<table border=\"1\" class=\"dataframe\">\n",
              "  <thead>\n",
              "    <tr style=\"text-align: right;\">\n",
              "      <th></th>\n",
              "      <th>Ligand SMILES</th>\n",
              "      <th>Ki (nM)</th>\n",
              "      <th>BindingDB Target Chain Sequence</th>\n",
              "    </tr>\n",
              "  </thead>\n",
              "  <tbody>\n",
              "    <tr>\n",
              "      <th>0</th>\n",
              "      <td>O[C@@H]1[C@@H](O)[C@@H](Cc2ccccc2)N(CCCCCC(O)=...</td>\n",
              "      <td>0.24</td>\n",
              "      <td>PQITLWQRPLVTIKIGGQLKEALLDTGADDTVLEEMSLPGRWKPKM...</td>\n",
              "    </tr>\n",
              "    <tr>\n",
              "      <th>1</th>\n",
              "      <td>O[C@@H]1[C@@H](O)[C@@H](Cc2ccccc2)N(C\\C=C\\c2cn...</td>\n",
              "      <td>0.25</td>\n",
              "      <td>PQITLWQRPLVTIKIGGQLKEALLDTGADDTVLEEMSLPGRWKPKM...</td>\n",
              "    </tr>\n",
              "    <tr>\n",
              "      <th>2</th>\n",
              "      <td>O[C@@H]1[C@@H](O)[C@@H](Cc2ccccc2)N(CC2CC2)C(=...</td>\n",
              "      <td>0.41</td>\n",
              "      <td>PQITLWQRPLVTIKIGGQLKEALLDTGADDTVLEEMSLPGRWKPKM...</td>\n",
              "    </tr>\n",
              "    <tr>\n",
              "      <th>3</th>\n",
              "      <td>OCCCCCCN1[C@H](Cc2ccccc2)[C@H](O)[C@@H](O)[C@@...</td>\n",
              "      <td>0.8</td>\n",
              "      <td>PQITLWQRPLVTIKIGGQLKEALLDTGADDTVLEEMSLPGRWKPKM...</td>\n",
              "    </tr>\n",
              "    <tr>\n",
              "      <th>4</th>\n",
              "      <td>OCCCCCN1[C@H](Cc2ccccc2)[C@H](O)[C@@H](O)[C@@H...</td>\n",
              "      <td>0.99</td>\n",
              "      <td>PQITLWQRPLVTIKIGGQLKEALLDTGADDTVLEEMSLPGRWKPKM...</td>\n",
              "    </tr>\n",
              "    <tr>\n",
              "      <th>...</th>\n",
              "      <td>...</td>\n",
              "      <td>...</td>\n",
              "      <td>...</td>\n",
              "    </tr>\n",
              "    <tr>\n",
              "      <th>2836924</th>\n",
              "      <td>COc1cccc2c(ccc(O)c12)-c1ccc2cccc(OC)c2c1O</td>\n",
              "      <td>6600</td>\n",
              "      <td>MGETLGDSPIDPESDSFTDTLSANISQEMTMVDTEMPFWPTNFGIS...</td>\n",
              "    </tr>\n",
              "    <tr>\n",
              "      <th>2836925</th>\n",
              "      <td>CCc1ccc(CCOc2ccc(CC3SC(=O)NC3=O)cc2)nc1</td>\n",
              "      <td>600</td>\n",
              "      <td>MGETLGDSPIDPESDSFTDTLSANISQEMTMVDTEMPFWPTNFGIS...</td>\n",
              "    </tr>\n",
              "    <tr>\n",
              "      <th>2836926</th>\n",
              "      <td>CN(CCOc1ccc(C[C@H](Nc2ccccc2C(=O)c2ccccc2)C(O)...</td>\n",
              "      <td>2.0</td>\n",
              "      <td>MGETLGDSPIDPESDSFTDTLSANISQEMTMVDTEMPFWPTNFGIS...</td>\n",
              "    </tr>\n",
              "    <tr>\n",
              "      <th>2836927</th>\n",
              "      <td>COc1cccc2ccc(c(O)c12)-c1cc(-c2ccc3cccc(OC)c3c2...</td>\n",
              "      <td>18800</td>\n",
              "      <td>MEQPQEEAPEVREEEEKEEVAEAEGAPELNGGPQHALPSSSYTDLS...</td>\n",
              "    </tr>\n",
              "    <tr>\n",
              "      <th>2836928</th>\n",
              "      <td>Cc1nc(sc1CSc1ccc(OCC(O)=O)c(C)c1)-c1ccc(cc1)C(...</td>\n",
              "      <td>1.000000</td>\n",
              "      <td>MEQPQEEAPEVREEEEKEEVAEAEGAPELNGGPQHALPSSSYTDLS...</td>\n",
              "    </tr>\n",
              "  </tbody>\n",
              "</table>\n",
              "<p>584742 rows × 3 columns</p>\n",
              "</div>\n",
              "    <div class=\"colab-df-buttons\">\n",
              "\n",
              "  <div class=\"colab-df-container\">\n",
              "    <button class=\"colab-df-convert\" onclick=\"convertToInteractive('df-1b3a87ed-0ee9-4769-bf43-d0794e6ae301')\"\n",
              "            title=\"Convert this dataframe to an interactive table.\"\n",
              "            style=\"display:none;\">\n",
              "\n",
              "  <svg xmlns=\"http://www.w3.org/2000/svg\" height=\"24px\" viewBox=\"0 -960 960 960\">\n",
              "    <path d=\"M120-120v-720h720v720H120Zm60-500h600v-160H180v160Zm220 220h160v-160H400v160Zm0 220h160v-160H400v160ZM180-400h160v-160H180v160Zm440 0h160v-160H620v160ZM180-180h160v-160H180v160Zm440 0h160v-160H620v160Z\"/>\n",
              "  </svg>\n",
              "    </button>\n",
              "\n",
              "  <style>\n",
              "    .colab-df-container {\n",
              "      display:flex;\n",
              "      gap: 12px;\n",
              "    }\n",
              "\n",
              "    .colab-df-convert {\n",
              "      background-color: #E8F0FE;\n",
              "      border: none;\n",
              "      border-radius: 50%;\n",
              "      cursor: pointer;\n",
              "      display: none;\n",
              "      fill: #1967D2;\n",
              "      height: 32px;\n",
              "      padding: 0 0 0 0;\n",
              "      width: 32px;\n",
              "    }\n",
              "\n",
              "    .colab-df-convert:hover {\n",
              "      background-color: #E2EBFA;\n",
              "      box-shadow: 0px 1px 2px rgba(60, 64, 67, 0.3), 0px 1px 3px 1px rgba(60, 64, 67, 0.15);\n",
              "      fill: #174EA6;\n",
              "    }\n",
              "\n",
              "    .colab-df-buttons div {\n",
              "      margin-bottom: 4px;\n",
              "    }\n",
              "\n",
              "    [theme=dark] .colab-df-convert {\n",
              "      background-color: #3B4455;\n",
              "      fill: #D2E3FC;\n",
              "    }\n",
              "\n",
              "    [theme=dark] .colab-df-convert:hover {\n",
              "      background-color: #434B5C;\n",
              "      box-shadow: 0px 1px 3px 1px rgba(0, 0, 0, 0.15);\n",
              "      filter: drop-shadow(0px 1px 2px rgba(0, 0, 0, 0.3));\n",
              "      fill: #FFFFFF;\n",
              "    }\n",
              "  </style>\n",
              "\n",
              "    <script>\n",
              "      const buttonEl =\n",
              "        document.querySelector('#df-1b3a87ed-0ee9-4769-bf43-d0794e6ae301 button.colab-df-convert');\n",
              "      buttonEl.style.display =\n",
              "        google.colab.kernel.accessAllowed ? 'block' : 'none';\n",
              "\n",
              "      async function convertToInteractive(key) {\n",
              "        const element = document.querySelector('#df-1b3a87ed-0ee9-4769-bf43-d0794e6ae301');\n",
              "        const dataTable =\n",
              "          await google.colab.kernel.invokeFunction('convertToInteractive',\n",
              "                                                    [key], {});\n",
              "        if (!dataTable) return;\n",
              "\n",
              "        const docLinkHtml = 'Like what you see? Visit the ' +\n",
              "          '<a target=\"_blank\" href=https://colab.research.google.com/notebooks/data_table.ipynb>data table notebook</a>'\n",
              "          + ' to learn more about interactive tables.';\n",
              "        element.innerHTML = '';\n",
              "        dataTable['output_type'] = 'display_data';\n",
              "        await google.colab.output.renderOutput(dataTable, element);\n",
              "        const docLink = document.createElement('div');\n",
              "        docLink.innerHTML = docLinkHtml;\n",
              "        element.appendChild(docLink);\n",
              "      }\n",
              "    </script>\n",
              "  </div>\n",
              "\n",
              "\n",
              "<div id=\"df-eb043782-e842-44a0-bd0d-060b09289194\">\n",
              "  <button class=\"colab-df-quickchart\" onclick=\"quickchart('df-eb043782-e842-44a0-bd0d-060b09289194')\"\n",
              "            title=\"Suggest charts\"\n",
              "            style=\"display:none;\">\n",
              "\n",
              "<svg xmlns=\"http://www.w3.org/2000/svg\" height=\"24px\"viewBox=\"0 0 24 24\"\n",
              "     width=\"24px\">\n",
              "    <g>\n",
              "        <path d=\"M19 3H5c-1.1 0-2 .9-2 2v14c0 1.1.9 2 2 2h14c1.1 0 2-.9 2-2V5c0-1.1-.9-2-2-2zM9 17H7v-7h2v7zm4 0h-2V7h2v10zm4 0h-2v-4h2v4z\"/>\n",
              "    </g>\n",
              "</svg>\n",
              "  </button>\n",
              "\n",
              "<style>\n",
              "  .colab-df-quickchart {\n",
              "      --bg-color: #E8F0FE;\n",
              "      --fill-color: #1967D2;\n",
              "      --hover-bg-color: #E2EBFA;\n",
              "      --hover-fill-color: #174EA6;\n",
              "      --disabled-fill-color: #AAA;\n",
              "      --disabled-bg-color: #DDD;\n",
              "  }\n",
              "\n",
              "  [theme=dark] .colab-df-quickchart {\n",
              "      --bg-color: #3B4455;\n",
              "      --fill-color: #D2E3FC;\n",
              "      --hover-bg-color: #434B5C;\n",
              "      --hover-fill-color: #FFFFFF;\n",
              "      --disabled-bg-color: #3B4455;\n",
              "      --disabled-fill-color: #666;\n",
              "  }\n",
              "\n",
              "  .colab-df-quickchart {\n",
              "    background-color: var(--bg-color);\n",
              "    border: none;\n",
              "    border-radius: 50%;\n",
              "    cursor: pointer;\n",
              "    display: none;\n",
              "    fill: var(--fill-color);\n",
              "    height: 32px;\n",
              "    padding: 0;\n",
              "    width: 32px;\n",
              "  }\n",
              "\n",
              "  .colab-df-quickchart:hover {\n",
              "    background-color: var(--hover-bg-color);\n",
              "    box-shadow: 0 1px 2px rgba(60, 64, 67, 0.3), 0 1px 3px 1px rgba(60, 64, 67, 0.15);\n",
              "    fill: var(--button-hover-fill-color);\n",
              "  }\n",
              "\n",
              "  .colab-df-quickchart-complete:disabled,\n",
              "  .colab-df-quickchart-complete:disabled:hover {\n",
              "    background-color: var(--disabled-bg-color);\n",
              "    fill: var(--disabled-fill-color);\n",
              "    box-shadow: none;\n",
              "  }\n",
              "\n",
              "  .colab-df-spinner {\n",
              "    border: 2px solid var(--fill-color);\n",
              "    border-color: transparent;\n",
              "    border-bottom-color: var(--fill-color);\n",
              "    animation:\n",
              "      spin 1s steps(1) infinite;\n",
              "  }\n",
              "\n",
              "  @keyframes spin {\n",
              "    0% {\n",
              "      border-color: transparent;\n",
              "      border-bottom-color: var(--fill-color);\n",
              "      border-left-color: var(--fill-color);\n",
              "    }\n",
              "    20% {\n",
              "      border-color: transparent;\n",
              "      border-left-color: var(--fill-color);\n",
              "      border-top-color: var(--fill-color);\n",
              "    }\n",
              "    30% {\n",
              "      border-color: transparent;\n",
              "      border-left-color: var(--fill-color);\n",
              "      border-top-color: var(--fill-color);\n",
              "      border-right-color: var(--fill-color);\n",
              "    }\n",
              "    40% {\n",
              "      border-color: transparent;\n",
              "      border-right-color: var(--fill-color);\n",
              "      border-top-color: var(--fill-color);\n",
              "    }\n",
              "    60% {\n",
              "      border-color: transparent;\n",
              "      border-right-color: var(--fill-color);\n",
              "    }\n",
              "    80% {\n",
              "      border-color: transparent;\n",
              "      border-right-color: var(--fill-color);\n",
              "      border-bottom-color: var(--fill-color);\n",
              "    }\n",
              "    90% {\n",
              "      border-color: transparent;\n",
              "      border-bottom-color: var(--fill-color);\n",
              "    }\n",
              "  }\n",
              "</style>\n",
              "\n",
              "  <script>\n",
              "    async function quickchart(key) {\n",
              "      const quickchartButtonEl =\n",
              "        document.querySelector('#' + key + ' button');\n",
              "      quickchartButtonEl.disabled = true;  // To prevent multiple clicks.\n",
              "      quickchartButtonEl.classList.add('colab-df-spinner');\n",
              "      try {\n",
              "        const charts = await google.colab.kernel.invokeFunction(\n",
              "            'suggestCharts', [key], {});\n",
              "      } catch (error) {\n",
              "        console.error('Error during call to suggestCharts:', error);\n",
              "      }\n",
              "      quickchartButtonEl.classList.remove('colab-df-spinner');\n",
              "      quickchartButtonEl.classList.add('colab-df-quickchart-complete');\n",
              "    }\n",
              "    (() => {\n",
              "      let quickchartButtonEl =\n",
              "        document.querySelector('#df-eb043782-e842-44a0-bd0d-060b09289194 button');\n",
              "      quickchartButtonEl.style.display =\n",
              "        google.colab.kernel.accessAllowed ? 'block' : 'none';\n",
              "    })();\n",
              "  </script>\n",
              "</div>\n",
              "\n",
              "  <div id=\"id_4f7bb88b-9e6d-44ce-85f6-d1907a994b86\">\n",
              "    <style>\n",
              "      .colab-df-generate {\n",
              "        background-color: #E8F0FE;\n",
              "        border: none;\n",
              "        border-radius: 50%;\n",
              "        cursor: pointer;\n",
              "        display: none;\n",
              "        fill: #1967D2;\n",
              "        height: 32px;\n",
              "        padding: 0 0 0 0;\n",
              "        width: 32px;\n",
              "      }\n",
              "\n",
              "      .colab-df-generate:hover {\n",
              "        background-color: #E2EBFA;\n",
              "        box-shadow: 0px 1px 2px rgba(60, 64, 67, 0.3), 0px 1px 3px 1px rgba(60, 64, 67, 0.15);\n",
              "        fill: #174EA6;\n",
              "      }\n",
              "\n",
              "      [theme=dark] .colab-df-generate {\n",
              "        background-color: #3B4455;\n",
              "        fill: #D2E3FC;\n",
              "      }\n",
              "\n",
              "      [theme=dark] .colab-df-generate:hover {\n",
              "        background-color: #434B5C;\n",
              "        box-shadow: 0px 1px 3px 1px rgba(0, 0, 0, 0.15);\n",
              "        filter: drop-shadow(0px 1px 2px rgba(0, 0, 0, 0.3));\n",
              "        fill: #FFFFFF;\n",
              "      }\n",
              "    </style>\n",
              "    <button class=\"colab-df-generate\" onclick=\"generateWithVariable('df')\"\n",
              "            title=\"Generate code using this dataframe.\"\n",
              "            style=\"display:none;\">\n",
              "\n",
              "  <svg xmlns=\"http://www.w3.org/2000/svg\" height=\"24px\"viewBox=\"0 0 24 24\"\n",
              "       width=\"24px\">\n",
              "    <path d=\"M7,19H8.4L18.45,9,17,7.55,7,17.6ZM5,21V16.75L18.45,3.32a2,2,0,0,1,2.83,0l1.4,1.43a1.91,1.91,0,0,1,.58,1.4,1.91,1.91,0,0,1-.58,1.4L9.25,21ZM18.45,9,17,7.55Zm-12,3A5.31,5.31,0,0,0,4.9,8.1,5.31,5.31,0,0,0,1,6.5,5.31,5.31,0,0,0,4.9,4.9,5.31,5.31,0,0,0,6.5,1,5.31,5.31,0,0,0,8.1,4.9,5.31,5.31,0,0,0,12,6.5,5.46,5.46,0,0,0,6.5,12Z\"/>\n",
              "  </svg>\n",
              "    </button>\n",
              "    <script>\n",
              "      (() => {\n",
              "      const buttonEl =\n",
              "        document.querySelector('#id_4f7bb88b-9e6d-44ce-85f6-d1907a994b86 button.colab-df-generate');\n",
              "      buttonEl.style.display =\n",
              "        google.colab.kernel.accessAllowed ? 'block' : 'none';\n",
              "\n",
              "      buttonEl.onclick = () => {\n",
              "        google.colab.notebook.generateWithVariable('df');\n",
              "      }\n",
              "      })();\n",
              "    </script>\n",
              "  </div>\n",
              "\n",
              "    </div>\n",
              "  </div>\n"
            ],
            "application/vnd.google.colaboratory.intrinsic+json": {
              "type": "dataframe",
              "variable_name": "df"
            }
          },
          "metadata": {},
          "execution_count": 9
        }
      ]
    },
    {
      "cell_type": "code",
      "source": [
        "#process the data\n",
        "df[\"Ki (nM)\"]=df[\"Ki (nM)\"].astype(str).apply(lambda x: x.replace('>', '',))\n",
        "df[\"Ki (nM)\"]=df[\"Ki (nM)\"].astype(str).apply(lambda x: x.replace('<', '',)).astype(float)\n",
        "df['Pki'] = np.log(df[\"Ki (nM)\"].div(1e9))*-1\n",
        "df=df[(df[\"Pki\"]<24) & (df[\"Pki\"]>2)]\n",
        "df[\"protein_length\"] = df[\"BindingDB Target Chain Sequence\"].astype(str).apply(lambda x:len(x))\n",
        "df[\"ligand_length\"] = df[\"Ligand SMILES\"].astype(str).apply(lambda x:len(x))\n",
        "df = df[(df[\"protein_length\"]<600) & (df[\"protein_length\"]>200)]"
      ],
      "metadata": {
        "id": "OUEGqbOPFZ5O"
      },
      "execution_count": null,
      "outputs": []
    },
    {
      "cell_type": "code",
      "source": [
        "df"
      ],
      "metadata": {
        "colab": {
          "base_uri": "https://localhost:8080/",
          "height": 600
        },
        "id": "NFcmlGlpFd2N",
        "outputId": "14ceb6e5-083c-4993-9234-dc4bc5a7b3b3"
      },
      "execution_count": null,
      "outputs": [
        {
          "output_type": "execute_result",
          "data": {
            "text/plain": [
              "                                             Ligand SMILES  Ki (nM)  \\\n",
              "198      CN(Cc1ccc(s1)C(=O)N[C@@H](CC(O)=O)C(=O)CSCc1cc...     90.0   \n",
              "199      OC(=O)C[C@H](NC(=O)c1ccc(CNS(=O)(=O)c2ccc(O)c(...    160.0   \n",
              "200      OC(=O)C[C@H](NC(=O)c1ccc(CNS(=O)(=O)c2ccc(O)c(...   3900.0   \n",
              "201      CN(Cc1ccc(s1)C(=O)N[C@@H](CC(O)=O)C(=O)CSCc1cc...  12000.0   \n",
              "202      OC(=O)C[C@H](NC(=O)c1ccc(CNS(=O)(=O)c2ccc(O)c(...   1500.0   \n",
              "...                                                    ...      ...   \n",
              "2836924          COc1cccc2c(ccc(O)c12)-c1ccc2cccc(OC)c2c1O   6600.0   \n",
              "2836925            CCc1ccc(CCOc2ccc(CC3SC(=O)NC3=O)cc2)nc1    600.0   \n",
              "2836926  CN(CCOc1ccc(C[C@H](Nc2ccccc2C(=O)c2ccccc2)C(O)...      2.0   \n",
              "2836927  COc1cccc2ccc(c(O)c12)-c1cc(-c2ccc3cccc(OC)c3c2...  18800.0   \n",
              "2836928  Cc1nc(sc1CSc1ccc(OCC(O)=O)c(C)c1)-c1ccc(cc1)C(...      1.0   \n",
              "\n",
              "                           BindingDB Target Chain Sequence        Pki  \\\n",
              "198      MENTENSVDSKSIKNLEPKIIHGSESMDSGISLDNSYKMDYPEMGL...  16.223456   \n",
              "199      MADKVLKEKRKLFIRSMGEGTINGLLDELLQTRVLNKEEMEKVKRE...  15.648092   \n",
              "200      MADKVLKEKRKLFIRSMGEGTINGLLDELLQTRVLNKEEMEKVKRE...  12.454534   \n",
              "201      MADKVLKEKRKLFIRSMGEGTINGLLDELLQTRVLNKEEMEKVKRE...  11.330604   \n",
              "202      MADKVLKEKRKLFIRSMGEGTINGLLDELLQTRVLNKEEMEKVKRE...  13.410045   \n",
              "...                                                    ...        ...   \n",
              "2836924  MGETLGDSPIDPESDSFTDTLSANISQEMTMVDTEMPFWPTNFGIS...  11.928441   \n",
              "2836925  MGETLGDSPIDPESDSFTDTLSANISQEMTMVDTEMPFWPTNFGIS...  14.326336   \n",
              "2836926  MGETLGDSPIDPESDSFTDTLSANISQEMTMVDTEMPFWPTNFGIS...  20.030119   \n",
              "2836927  MEQPQEEAPEVREEEEKEEVAEAEGAPELNGGPQHALPSSSYTDLS...  10.881654   \n",
              "2836928  MEQPQEEAPEVREEEEKEEVAEAEGAPELNGGPQHALPSSSYTDLS...  20.723266   \n",
              "\n",
              "         protein_length  ligand_length  \n",
              "198                 277             73  \n",
              "199                 404             63  \n",
              "200                 404             63  \n",
              "201                 404             73  \n",
              "202                 404             78  \n",
              "...                 ...            ...  \n",
              "2836924             505             41  \n",
              "2836925             505             39  \n",
              "2836926             505             61  \n",
              "2836927             441             63  \n",
              "2836928             441             52  \n",
              "\n",
              "[427269 rows x 6 columns]"
            ],
            "text/html": [
              "\n",
              "  <div id=\"df-f7112473-4389-4213-9f6f-27c4b10bb188\" class=\"colab-df-container\">\n",
              "    <div>\n",
              "<style scoped>\n",
              "    .dataframe tbody tr th:only-of-type {\n",
              "        vertical-align: middle;\n",
              "    }\n",
              "\n",
              "    .dataframe tbody tr th {\n",
              "        vertical-align: top;\n",
              "    }\n",
              "\n",
              "    .dataframe thead th {\n",
              "        text-align: right;\n",
              "    }\n",
              "</style>\n",
              "<table border=\"1\" class=\"dataframe\">\n",
              "  <thead>\n",
              "    <tr style=\"text-align: right;\">\n",
              "      <th></th>\n",
              "      <th>Ligand SMILES</th>\n",
              "      <th>Ki (nM)</th>\n",
              "      <th>BindingDB Target Chain Sequence</th>\n",
              "      <th>Pki</th>\n",
              "      <th>protein_length</th>\n",
              "      <th>ligand_length</th>\n",
              "    </tr>\n",
              "  </thead>\n",
              "  <tbody>\n",
              "    <tr>\n",
              "      <th>198</th>\n",
              "      <td>CN(Cc1ccc(s1)C(=O)N[C@@H](CC(O)=O)C(=O)CSCc1cc...</td>\n",
              "      <td>90.0</td>\n",
              "      <td>MENTENSVDSKSIKNLEPKIIHGSESMDSGISLDNSYKMDYPEMGL...</td>\n",
              "      <td>16.223456</td>\n",
              "      <td>277</td>\n",
              "      <td>73</td>\n",
              "    </tr>\n",
              "    <tr>\n",
              "      <th>199</th>\n",
              "      <td>OC(=O)C[C@H](NC(=O)c1ccc(CNS(=O)(=O)c2ccc(O)c(...</td>\n",
              "      <td>160.0</td>\n",
              "      <td>MADKVLKEKRKLFIRSMGEGTINGLLDELLQTRVLNKEEMEKVKRE...</td>\n",
              "      <td>15.648092</td>\n",
              "      <td>404</td>\n",
              "      <td>63</td>\n",
              "    </tr>\n",
              "    <tr>\n",
              "      <th>200</th>\n",
              "      <td>OC(=O)C[C@H](NC(=O)c1ccc(CNS(=O)(=O)c2ccc(O)c(...</td>\n",
              "      <td>3900.0</td>\n",
              "      <td>MADKVLKEKRKLFIRSMGEGTINGLLDELLQTRVLNKEEMEKVKRE...</td>\n",
              "      <td>12.454534</td>\n",
              "      <td>404</td>\n",
              "      <td>63</td>\n",
              "    </tr>\n",
              "    <tr>\n",
              "      <th>201</th>\n",
              "      <td>CN(Cc1ccc(s1)C(=O)N[C@@H](CC(O)=O)C(=O)CSCc1cc...</td>\n",
              "      <td>12000.0</td>\n",
              "      <td>MADKVLKEKRKLFIRSMGEGTINGLLDELLQTRVLNKEEMEKVKRE...</td>\n",
              "      <td>11.330604</td>\n",
              "      <td>404</td>\n",
              "      <td>73</td>\n",
              "    </tr>\n",
              "    <tr>\n",
              "      <th>202</th>\n",
              "      <td>OC(=O)C[C@H](NC(=O)c1ccc(CNS(=O)(=O)c2ccc(O)c(...</td>\n",
              "      <td>1500.0</td>\n",
              "      <td>MADKVLKEKRKLFIRSMGEGTINGLLDELLQTRVLNKEEMEKVKRE...</td>\n",
              "      <td>13.410045</td>\n",
              "      <td>404</td>\n",
              "      <td>78</td>\n",
              "    </tr>\n",
              "    <tr>\n",
              "      <th>...</th>\n",
              "      <td>...</td>\n",
              "      <td>...</td>\n",
              "      <td>...</td>\n",
              "      <td>...</td>\n",
              "      <td>...</td>\n",
              "      <td>...</td>\n",
              "    </tr>\n",
              "    <tr>\n",
              "      <th>2836924</th>\n",
              "      <td>COc1cccc2c(ccc(O)c12)-c1ccc2cccc(OC)c2c1O</td>\n",
              "      <td>6600.0</td>\n",
              "      <td>MGETLGDSPIDPESDSFTDTLSANISQEMTMVDTEMPFWPTNFGIS...</td>\n",
              "      <td>11.928441</td>\n",
              "      <td>505</td>\n",
              "      <td>41</td>\n",
              "    </tr>\n",
              "    <tr>\n",
              "      <th>2836925</th>\n",
              "      <td>CCc1ccc(CCOc2ccc(CC3SC(=O)NC3=O)cc2)nc1</td>\n",
              "      <td>600.0</td>\n",
              "      <td>MGETLGDSPIDPESDSFTDTLSANISQEMTMVDTEMPFWPTNFGIS...</td>\n",
              "      <td>14.326336</td>\n",
              "      <td>505</td>\n",
              "      <td>39</td>\n",
              "    </tr>\n",
              "    <tr>\n",
              "      <th>2836926</th>\n",
              "      <td>CN(CCOc1ccc(C[C@H](Nc2ccccc2C(=O)c2ccccc2)C(O)...</td>\n",
              "      <td>2.0</td>\n",
              "      <td>MGETLGDSPIDPESDSFTDTLSANISQEMTMVDTEMPFWPTNFGIS...</td>\n",
              "      <td>20.030119</td>\n",
              "      <td>505</td>\n",
              "      <td>61</td>\n",
              "    </tr>\n",
              "    <tr>\n",
              "      <th>2836927</th>\n",
              "      <td>COc1cccc2ccc(c(O)c12)-c1cc(-c2ccc3cccc(OC)c3c2...</td>\n",
              "      <td>18800.0</td>\n",
              "      <td>MEQPQEEAPEVREEEEKEEVAEAEGAPELNGGPQHALPSSSYTDLS...</td>\n",
              "      <td>10.881654</td>\n",
              "      <td>441</td>\n",
              "      <td>63</td>\n",
              "    </tr>\n",
              "    <tr>\n",
              "      <th>2836928</th>\n",
              "      <td>Cc1nc(sc1CSc1ccc(OCC(O)=O)c(C)c1)-c1ccc(cc1)C(...</td>\n",
              "      <td>1.0</td>\n",
              "      <td>MEQPQEEAPEVREEEEKEEVAEAEGAPELNGGPQHALPSSSYTDLS...</td>\n",
              "      <td>20.723266</td>\n",
              "      <td>441</td>\n",
              "      <td>52</td>\n",
              "    </tr>\n",
              "  </tbody>\n",
              "</table>\n",
              "<p>427269 rows × 6 columns</p>\n",
              "</div>\n",
              "    <div class=\"colab-df-buttons\">\n",
              "\n",
              "  <div class=\"colab-df-container\">\n",
              "    <button class=\"colab-df-convert\" onclick=\"convertToInteractive('df-f7112473-4389-4213-9f6f-27c4b10bb188')\"\n",
              "            title=\"Convert this dataframe to an interactive table.\"\n",
              "            style=\"display:none;\">\n",
              "\n",
              "  <svg xmlns=\"http://www.w3.org/2000/svg\" height=\"24px\" viewBox=\"0 -960 960 960\">\n",
              "    <path d=\"M120-120v-720h720v720H120Zm60-500h600v-160H180v160Zm220 220h160v-160H400v160Zm0 220h160v-160H400v160ZM180-400h160v-160H180v160Zm440 0h160v-160H620v160ZM180-180h160v-160H180v160Zm440 0h160v-160H620v160Z\"/>\n",
              "  </svg>\n",
              "    </button>\n",
              "\n",
              "  <style>\n",
              "    .colab-df-container {\n",
              "      display:flex;\n",
              "      gap: 12px;\n",
              "    }\n",
              "\n",
              "    .colab-df-convert {\n",
              "      background-color: #E8F0FE;\n",
              "      border: none;\n",
              "      border-radius: 50%;\n",
              "      cursor: pointer;\n",
              "      display: none;\n",
              "      fill: #1967D2;\n",
              "      height: 32px;\n",
              "      padding: 0 0 0 0;\n",
              "      width: 32px;\n",
              "    }\n",
              "\n",
              "    .colab-df-convert:hover {\n",
              "      background-color: #E2EBFA;\n",
              "      box-shadow: 0px 1px 2px rgba(60, 64, 67, 0.3), 0px 1px 3px 1px rgba(60, 64, 67, 0.15);\n",
              "      fill: #174EA6;\n",
              "    }\n",
              "\n",
              "    .colab-df-buttons div {\n",
              "      margin-bottom: 4px;\n",
              "    }\n",
              "\n",
              "    [theme=dark] .colab-df-convert {\n",
              "      background-color: #3B4455;\n",
              "      fill: #D2E3FC;\n",
              "    }\n",
              "\n",
              "    [theme=dark] .colab-df-convert:hover {\n",
              "      background-color: #434B5C;\n",
              "      box-shadow: 0px 1px 3px 1px rgba(0, 0, 0, 0.15);\n",
              "      filter: drop-shadow(0px 1px 2px rgba(0, 0, 0, 0.3));\n",
              "      fill: #FFFFFF;\n",
              "    }\n",
              "  </style>\n",
              "\n",
              "    <script>\n",
              "      const buttonEl =\n",
              "        document.querySelector('#df-f7112473-4389-4213-9f6f-27c4b10bb188 button.colab-df-convert');\n",
              "      buttonEl.style.display =\n",
              "        google.colab.kernel.accessAllowed ? 'block' : 'none';\n",
              "\n",
              "      async function convertToInteractive(key) {\n",
              "        const element = document.querySelector('#df-f7112473-4389-4213-9f6f-27c4b10bb188');\n",
              "        const dataTable =\n",
              "          await google.colab.kernel.invokeFunction('convertToInteractive',\n",
              "                                                    [key], {});\n",
              "        if (!dataTable) return;\n",
              "\n",
              "        const docLinkHtml = 'Like what you see? Visit the ' +\n",
              "          '<a target=\"_blank\" href=https://colab.research.google.com/notebooks/data_table.ipynb>data table notebook</a>'\n",
              "          + ' to learn more about interactive tables.';\n",
              "        element.innerHTML = '';\n",
              "        dataTable['output_type'] = 'display_data';\n",
              "        await google.colab.output.renderOutput(dataTable, element);\n",
              "        const docLink = document.createElement('div');\n",
              "        docLink.innerHTML = docLinkHtml;\n",
              "        element.appendChild(docLink);\n",
              "      }\n",
              "    </script>\n",
              "  </div>\n",
              "\n",
              "\n",
              "<div id=\"df-2c48197d-a1e0-43b8-9679-4d3b2853330c\">\n",
              "  <button class=\"colab-df-quickchart\" onclick=\"quickchart('df-2c48197d-a1e0-43b8-9679-4d3b2853330c')\"\n",
              "            title=\"Suggest charts\"\n",
              "            style=\"display:none;\">\n",
              "\n",
              "<svg xmlns=\"http://www.w3.org/2000/svg\" height=\"24px\"viewBox=\"0 0 24 24\"\n",
              "     width=\"24px\">\n",
              "    <g>\n",
              "        <path d=\"M19 3H5c-1.1 0-2 .9-2 2v14c0 1.1.9 2 2 2h14c1.1 0 2-.9 2-2V5c0-1.1-.9-2-2-2zM9 17H7v-7h2v7zm4 0h-2V7h2v10zm4 0h-2v-4h2v4z\"/>\n",
              "    </g>\n",
              "</svg>\n",
              "  </button>\n",
              "\n",
              "<style>\n",
              "  .colab-df-quickchart {\n",
              "      --bg-color: #E8F0FE;\n",
              "      --fill-color: #1967D2;\n",
              "      --hover-bg-color: #E2EBFA;\n",
              "      --hover-fill-color: #174EA6;\n",
              "      --disabled-fill-color: #AAA;\n",
              "      --disabled-bg-color: #DDD;\n",
              "  }\n",
              "\n",
              "  [theme=dark] .colab-df-quickchart {\n",
              "      --bg-color: #3B4455;\n",
              "      --fill-color: #D2E3FC;\n",
              "      --hover-bg-color: #434B5C;\n",
              "      --hover-fill-color: #FFFFFF;\n",
              "      --disabled-bg-color: #3B4455;\n",
              "      --disabled-fill-color: #666;\n",
              "  }\n",
              "\n",
              "  .colab-df-quickchart {\n",
              "    background-color: var(--bg-color);\n",
              "    border: none;\n",
              "    border-radius: 50%;\n",
              "    cursor: pointer;\n",
              "    display: none;\n",
              "    fill: var(--fill-color);\n",
              "    height: 32px;\n",
              "    padding: 0;\n",
              "    width: 32px;\n",
              "  }\n",
              "\n",
              "  .colab-df-quickchart:hover {\n",
              "    background-color: var(--hover-bg-color);\n",
              "    box-shadow: 0 1px 2px rgba(60, 64, 67, 0.3), 0 1px 3px 1px rgba(60, 64, 67, 0.15);\n",
              "    fill: var(--button-hover-fill-color);\n",
              "  }\n",
              "\n",
              "  .colab-df-quickchart-complete:disabled,\n",
              "  .colab-df-quickchart-complete:disabled:hover {\n",
              "    background-color: var(--disabled-bg-color);\n",
              "    fill: var(--disabled-fill-color);\n",
              "    box-shadow: none;\n",
              "  }\n",
              "\n",
              "  .colab-df-spinner {\n",
              "    border: 2px solid var(--fill-color);\n",
              "    border-color: transparent;\n",
              "    border-bottom-color: var(--fill-color);\n",
              "    animation:\n",
              "      spin 1s steps(1) infinite;\n",
              "  }\n",
              "\n",
              "  @keyframes spin {\n",
              "    0% {\n",
              "      border-color: transparent;\n",
              "      border-bottom-color: var(--fill-color);\n",
              "      border-left-color: var(--fill-color);\n",
              "    }\n",
              "    20% {\n",
              "      border-color: transparent;\n",
              "      border-left-color: var(--fill-color);\n",
              "      border-top-color: var(--fill-color);\n",
              "    }\n",
              "    30% {\n",
              "      border-color: transparent;\n",
              "      border-left-color: var(--fill-color);\n",
              "      border-top-color: var(--fill-color);\n",
              "      border-right-color: var(--fill-color);\n",
              "    }\n",
              "    40% {\n",
              "      border-color: transparent;\n",
              "      border-right-color: var(--fill-color);\n",
              "      border-top-color: var(--fill-color);\n",
              "    }\n",
              "    60% {\n",
              "      border-color: transparent;\n",
              "      border-right-color: var(--fill-color);\n",
              "    }\n",
              "    80% {\n",
              "      border-color: transparent;\n",
              "      border-right-color: var(--fill-color);\n",
              "      border-bottom-color: var(--fill-color);\n",
              "    }\n",
              "    90% {\n",
              "      border-color: transparent;\n",
              "      border-bottom-color: var(--fill-color);\n",
              "    }\n",
              "  }\n",
              "</style>\n",
              "\n",
              "  <script>\n",
              "    async function quickchart(key) {\n",
              "      const quickchartButtonEl =\n",
              "        document.querySelector('#' + key + ' button');\n",
              "      quickchartButtonEl.disabled = true;  // To prevent multiple clicks.\n",
              "      quickchartButtonEl.classList.add('colab-df-spinner');\n",
              "      try {\n",
              "        const charts = await google.colab.kernel.invokeFunction(\n",
              "            'suggestCharts', [key], {});\n",
              "      } catch (error) {\n",
              "        console.error('Error during call to suggestCharts:', error);\n",
              "      }\n",
              "      quickchartButtonEl.classList.remove('colab-df-spinner');\n",
              "      quickchartButtonEl.classList.add('colab-df-quickchart-complete');\n",
              "    }\n",
              "    (() => {\n",
              "      let quickchartButtonEl =\n",
              "        document.querySelector('#df-2c48197d-a1e0-43b8-9679-4d3b2853330c button');\n",
              "      quickchartButtonEl.style.display =\n",
              "        google.colab.kernel.accessAllowed ? 'block' : 'none';\n",
              "    })();\n",
              "  </script>\n",
              "</div>\n",
              "\n",
              "  <div id=\"id_2b55f13c-aa66-4fd8-8590-53d1c880a524\">\n",
              "    <style>\n",
              "      .colab-df-generate {\n",
              "        background-color: #E8F0FE;\n",
              "        border: none;\n",
              "        border-radius: 50%;\n",
              "        cursor: pointer;\n",
              "        display: none;\n",
              "        fill: #1967D2;\n",
              "        height: 32px;\n",
              "        padding: 0 0 0 0;\n",
              "        width: 32px;\n",
              "      }\n",
              "\n",
              "      .colab-df-generate:hover {\n",
              "        background-color: #E2EBFA;\n",
              "        box-shadow: 0px 1px 2px rgba(60, 64, 67, 0.3), 0px 1px 3px 1px rgba(60, 64, 67, 0.15);\n",
              "        fill: #174EA6;\n",
              "      }\n",
              "\n",
              "      [theme=dark] .colab-df-generate {\n",
              "        background-color: #3B4455;\n",
              "        fill: #D2E3FC;\n",
              "      }\n",
              "\n",
              "      [theme=dark] .colab-df-generate:hover {\n",
              "        background-color: #434B5C;\n",
              "        box-shadow: 0px 1px 3px 1px rgba(0, 0, 0, 0.15);\n",
              "        filter: drop-shadow(0px 1px 2px rgba(0, 0, 0, 0.3));\n",
              "        fill: #FFFFFF;\n",
              "      }\n",
              "    </style>\n",
              "    <button class=\"colab-df-generate\" onclick=\"generateWithVariable('df')\"\n",
              "            title=\"Generate code using this dataframe.\"\n",
              "            style=\"display:none;\">\n",
              "\n",
              "  <svg xmlns=\"http://www.w3.org/2000/svg\" height=\"24px\"viewBox=\"0 0 24 24\"\n",
              "       width=\"24px\">\n",
              "    <path d=\"M7,19H8.4L18.45,9,17,7.55,7,17.6ZM5,21V16.75L18.45,3.32a2,2,0,0,1,2.83,0l1.4,1.43a1.91,1.91,0,0,1,.58,1.4,1.91,1.91,0,0,1-.58,1.4L9.25,21ZM18.45,9,17,7.55Zm-12,3A5.31,5.31,0,0,0,4.9,8.1,5.31,5.31,0,0,0,1,6.5,5.31,5.31,0,0,0,4.9,4.9,5.31,5.31,0,0,0,6.5,1,5.31,5.31,0,0,0,8.1,4.9,5.31,5.31,0,0,0,12,6.5,5.46,5.46,0,0,0,6.5,12Z\"/>\n",
              "  </svg>\n",
              "    </button>\n",
              "    <script>\n",
              "      (() => {\n",
              "      const buttonEl =\n",
              "        document.querySelector('#id_2b55f13c-aa66-4fd8-8590-53d1c880a524 button.colab-df-generate');\n",
              "      buttonEl.style.display =\n",
              "        google.colab.kernel.accessAllowed ? 'block' : 'none';\n",
              "\n",
              "      buttonEl.onclick = () => {\n",
              "        google.colab.notebook.generateWithVariable('df');\n",
              "      }\n",
              "      })();\n",
              "    </script>\n",
              "  </div>\n",
              "\n",
              "    </div>\n",
              "  </div>\n"
            ],
            "application/vnd.google.colaboratory.intrinsic+json": {
              "type": "dataframe",
              "variable_name": "df"
            }
          },
          "metadata": {},
          "execution_count": 32
        }
      ]
    },
    {
      "cell_type": "code",
      "source": [
        "df.to_csv('for_test_short.csv')"
      ],
      "metadata": {
        "id": "0DIo8-6yIFFB"
      },
      "execution_count": null,
      "outputs": []
    },
    {
      "cell_type": "markdown",
      "source": [
        "**Novel start**"
      ],
      "metadata": {
        "id": "QCe11qO6gRr0"
      }
    },
    {
      "cell_type": "code",
      "source": [
        "# 600 for length as the protein are no longer than 500\n",
        "df = pd.read_csv('for_test_short.csv')"
      ],
      "metadata": {
        "id": "90ozgpa9L0Dz"
      },
      "execution_count": null,
      "outputs": []
    },
    {
      "cell_type": "code",
      "source": [
        "#split data\n",
        "df2=df.sample(n=427269,replace=False)\n",
        "X =df2[[\"Ligand SMILES\",\"BindingDB Target Chain Sequence\"]]\n",
        "y = df2[[\"Pki\"]]\n",
        "X_train, X_test, y_train, y_test = train_test_split(X, y, test_size=0.2, random_state=42)"
      ],
      "metadata": {
        "id": "yYu0_6SHIzr7"
      },
      "execution_count": null,
      "outputs": []
    },
    {
      "cell_type": "code",
      "source": [
        "#create a list to be used in NLP\n",
        "#traning list\n",
        "smiles_train =list(X_train[\"Ligand SMILES\"])\n",
        "protein_train=list(X_train[\"BindingDB Target Chain Sequence\"])\n",
        "label_train=list(y_train['Pki'])"
      ],
      "metadata": {
        "id": "RkqX4DlHJXBS"
      },
      "execution_count": null,
      "outputs": []
    },
    {
      "cell_type": "code",
      "source": [
        "#test list\n",
        "smiles_test =list(X_test[\"Ligand SMILES\"])\n",
        "protein_test=list(X_test[\"BindingDB Target Chain Sequence\"])\n",
        "label_test=list(y_test['Pki'])"
      ],
      "metadata": {
        "id": "ylMOnPLtJape"
      },
      "execution_count": null,
      "outputs": []
    },
    {
      "cell_type": "code",
      "source": [
        "# smiles train\n",
        "tokenizer_smiles = Tokenizer(char_level= True)\n",
        "tokenizer_smiles.fit_on_texts(smiles_train)\n",
        "word_index_smiles = tokenizer_smiles.word_index\n",
        "vocab_size_smiles = len(word_index_smiles)\n",
        "train_sequence_smiles = tokenizer_smiles.texts_to_sequences(smiles_train)\n",
        "train_padded_smiles = pad_sequences(train_sequence_smiles,truncating=\"post\",\n",
        "                                   padding=\"post\",maxlen=85)\n",
        "# test smiles\n",
        "test_sequence_smiles = tokenizer_smiles.texts_to_sequences(smiles_test)\n",
        "test_padded_smiles = pad_sequences(test_sequence_smiles,truncating=\"post\",\n",
        "                                   padding=\"post\",maxlen=85)"
      ],
      "metadata": {
        "id": "YFlaFdz6JgBS"
      },
      "execution_count": null,
      "outputs": []
    },
    {
      "cell_type": "code",
      "source": [
        "# protein data\n",
        "#train protins\n",
        "protein_train\n",
        "tokenizer_protein = Tokenizer(char_level= True)\n",
        "tokenizer_protein.fit_on_texts(protein_train)\n",
        "word_index_protein = tokenizer_protein.word_index\n",
        "vocab_size_protein= len(word_index_protein)\n",
        "train_sequence_protein = tokenizer_protein.texts_to_sequences(protein_train)\n",
        "train_padded_protein = pad_sequences(train_sequence_protein,truncating=\"post\",\n",
        "                                   padding=\"post\",maxlen=600)\n",
        "#test  proteins\n",
        "test_sequence_protein = tokenizer_protein.texts_to_sequences(protein_test)\n",
        "test_padded_protein = pad_sequences(test_sequence_protein,truncating=\"post\",\n",
        "                                   padding=\"post\", maxlen = 600)"
      ],
      "metadata": {
        "id": "BfVi7ioCKLsX"
      },
      "execution_count": null,
      "outputs": []
    },
    {
      "cell_type": "code",
      "source": [
        "#convert to array\n",
        "# smiles\n",
        "train_smiles_array = np.array(train_padded_smiles)\n",
        "test_smiles_array = np.array(test_padded_smiles)\n",
        "# proteins\n",
        "train_protein_array = np.array(train_padded_protein)\n",
        "test_protein_array = np.array(test_padded_protein)\n",
        "# bindig afinity\n",
        "train_label_array = np.array(label_train,dtype =\"float32\")\n",
        "test_label_array = np.array(label_test,dtype =\"float32\")\n",
        "#input layers\n",
        "smile_input =Input((85,))\n",
        "protein_input = Input((600,))"
      ],
      "metadata": {
        "id": "fk8NTK8hKbqm"
      },
      "execution_count": null,
      "outputs": []
    },
    {
      "cell_type": "code",
      "source": [
        "def cindex_score(y_true, y_pred):\n",
        "    g = tf.subtract(tf.expand_dims(y_pred, -1), y_pred)\n",
        "    g = tf.cast(g == 0.0, tf.float32) * 0.5 + tf.cast(g > 0.0, tf.float32)\n",
        "    f = tf.subtract(tf.expand_dims(y_true, -1), y_true) > 0.0\n",
        "    f = tf.compat.v1.matrix_band_part(tf.cast(f, tf.float32), -1, 0)\n",
        "    g = tf.reduce_sum(tf.multiply(g, f))\n",
        "    f = tf.reduce_sum(f)\n",
        "    return tf.where(tf.equal(g, 0), 0.0, g/f)"
      ],
      "metadata": {
        "id": "f46fASDpKkyF"
      },
      "execution_count": null,
      "outputs": []
    },
    {
      "cell_type": "code",
      "source": [
        "def cnn_block(vocab_size,length,input_shape):\n",
        "    \"\"\"\n",
        "    create embeding and cnn layers for either protein or smiles\n",
        "    \"\"\"\n",
        "    embed = Embedding(vocab_size+1, 128, input_length=length)(input_shape)\n",
        "    conv1 = Conv1D(32,4, activation=\"relu\")(embed)\n",
        "    conv2 = Conv1D(64,6, activation=\"relu\")(conv1)\n",
        "    conv3 = Conv1D(96,8, activation=\"relu\")(conv2)\n",
        "    max_pool = GlobalAveragePooling1D()(conv3)\n",
        "    return max_pool"
      ],
      "metadata": {
        "id": "t5k68comKoKu"
      },
      "execution_count": null,
      "outputs": []
    },
    {
      "cell_type": "code",
      "source": [
        "# concatenate the two layers\n",
        "conct_layers = Concatenate()([cnn_block(vocab_size_smiles,85,smile_input),#smiles layer\n",
        "                              cnn_block(vocab_size_protein,85,protein_input)]#protein layer\n",
        "                     )"
      ],
      "metadata": {
        "id": "VAF67AcBKrjp"
      },
      "execution_count": null,
      "outputs": []
    },
    {
      "cell_type": "code",
      "source": [
        "# output network\n",
        "output=Dense(1024,activation=\"relu\")(conct_layers)\n",
        "output = Dropout(0.1)(output)\n",
        "output=Dense(1024,activation=\"relu\")(output)\n",
        "output = Dropout(0.1)(output)\n",
        "output=Dense(512,activation=\"relu\")(output)\n",
        "output = Dense(1)(output)"
      ],
      "metadata": {
        "id": "f5QT66doKx3K"
      },
      "execution_count": null,
      "outputs": []
    },
    {
      "cell_type": "code",
      "source": [
        "# model difinition and optmization\n",
        "model=Model([protein_input, smile_input],output)\n",
        "# compile the model with the custom metric\n",
        "with CustomObjectScope({'cindex_score': cindex_score}):\n",
        "    optimizer = optimizers.Adam(learning_rate=0.001)\n",
        "    model.compile(loss='mse', optimizer=optimizer, metrics=['mse', cindex_score])"
      ],
      "metadata": {
        "id": "-wJYPm7DK1nx"
      },
      "execution_count": null,
      "outputs": []
    },
    {
      "cell_type": "code",
      "source": [
        "#train and evalution\n",
        "early_stop =EarlyStopping(min_delta=0.001,patience=5,restore_best_weights=True,)\n",
        "history=model.fit([train_protein_array,train_smiles_array],train_label_array,\n",
        "                 epochs=100,validation_data=([test_protein_array,test_smiles_array],\n",
        "                                                           test_label_array),callbacks=[early_stop],verbose=1)"
      ],
      "metadata": {
        "id": "-CaXhjNMLO6m"
      },
      "execution_count": null,
      "outputs": []
    },
    {
      "cell_type": "code",
      "source": [
        "# save the model\n",
        "model.save('my_model_600.keras')"
      ],
      "metadata": {
        "id": "nqLIj3CpMSqx"
      },
      "execution_count": null,
      "outputs": []
    },
    {
      "cell_type": "code",
      "source": [
        "hist = pd.DataFrame(history.history)\n",
        "hist.to_csv(\"./model_eval.csv\")\n",
        "plt.plot(history.history['mse'])\n",
        "plt.plot(history.history['val_mse'])\n",
        "plt.title('model mse')\n",
        "plt.ylabel('mse')\n",
        "plt.xlabel('epoch')\n",
        "plt.legend(['train','test'], loc='upper left')\n",
        "plt.savefig('./mse.png')   # save the figure to file"
      ],
      "metadata": {
        "id": "JZqelr9TMTtH"
      },
      "execution_count": null,
      "outputs": []
    },
    {
      "cell_type": "code",
      "source": [
        "## loss\n",
        "plt.plot(history.history['loss'])\n",
        "plt.plot(history.history['val_loss'])\n",
        "plt.title('model loss')\n",
        "plt.ylabel('loss')\n",
        "plt.xlabel('epoch')\n",
        "plt.legend(['train','test'], loc='upper left')\n",
        "plt.savefig('./loss.png')\n"
      ],
      "metadata": {
        "id": "OBmUNKMh_gAS"
      },
      "execution_count": null,
      "outputs": []
    },
    {
      "cell_type": "markdown",
      "source": [
        "Predictions"
      ],
      "metadata": {
        "id": "QUBJUzw2_sKW"
      }
    },
    {
      "cell_type": "code",
      "source": [
        "!wget https://coconut.naturalproducts.net/download/sdftar"
      ],
      "metadata": {
        "id": "G_TzC6qREXIO"
      },
      "execution_count": null,
      "outputs": []
    },
    {
      "cell_type": "code",
      "source": [
        "# Convert to a Pandas DataFrame\n",
        "dfcoco = PandasTools.LoadSDF('COCONUT_2022_01_2D.SDF')\n"
      ],
      "metadata": {
        "id": "iBtBQPcDC3rq"
      },
      "execution_count": null,
      "outputs": []
    },
    {
      "cell_type": "code",
      "source": [
        "req_columns =['coconut_id','name','SMILES','molecular_weight','molecular_formula','citationDOI','alogp','topoPSA']\n",
        "cocodata =pd.read_csv(\"./coconut_db.csv\",usecols=req_columns,index_col='coconut_id')\n",
        "cocodata.sample(n=600,replace=False).to_csv(\"test_coconut_data.csv\")\n",
        "cocodata =pd.read_csv(\"test_coconut_data.csv\")\n",
        "cocodata.shape"
      ],
      "metadata": {
        "id": "wqMH9Vvt_tdO"
      },
      "execution_count": null,
      "outputs": []
    },
    {
      "cell_type": "code",
      "source": [
        "def protein_seq(file):\n",
        "    \"\"\"\n",
        "    process the protein sequence and return the sequence in one line\n",
        "    \"\"\"\n",
        "    protein=''\n",
        "    with open(file) as fh:\n",
        "        for line in fh:\n",
        "            if line.startswith(\">\"):\n",
        "                pass\n",
        "            else:protein+=line.replace(\"\\n\",\"\")\n",
        "    return protein"
      ],
      "metadata": {
        "id": "JjQBBmYcP9W3"
      },
      "execution_count": null,
      "outputs": []
    },
    {
      "cell_type": "code",
      "source": [
        "n=cocodata.shape[0]\n",
        "list_or1=[protein_seq(\"or1.fa\")]*n\n",
        "list_or2=[protein_seq(\"or2.fa\")]*n\n",
        "list_or3=[protein_seq(\"or3.fa\")]*n\n",
        "list_or4=[protein_seq(\"or4.fa\")]*n\n",
        "smiles_list=list(cocodata[\"SMILES\"])\n"
      ],
      "metadata": {
        "id": "qM7mK3-YXUO3"
      },
      "execution_count": null,
      "outputs": []
    },
    {
      "cell_type": "code",
      "source": [
        "#load  model\n",
        "model = keras.models.load_model('my_model_600.keras')"
      ],
      "metadata": {
        "id": "G8Mbas2vbhyA"
      },
      "execution_count": null,
      "outputs": []
    },
    {
      "cell_type": "code",
      "source": [
        "def predictpkd(protein,smiles):\n",
        "    \"\"\"\n",
        "    process the protein and smiles and make predictions using the trained model\n",
        "    \"\"\"\n",
        "    tokenizer_protein = Tokenizer(char_level= True)\n",
        "    tokenizer_protein.fit_on_texts(protein)\n",
        "    protein=tokenizer_protein.texts_to_sequences(protein)\n",
        "    protein_padded = pad_sequences(protein,truncating=\"post\",\n",
        "                                   padding=\"post\",maxlen=600)\n",
        "    tokenizer_smiles = Tokenizer(char_level= True)\n",
        "    tokenizer_smiles.fit_on_texts(smiles)\n",
        "    smiles=tokenizer_smiles.texts_to_sequences(smiles)\n",
        "    smiles_padded = pad_sequences(smiles,truncating=\"post\",\n",
        "                                   padding=\"post\",maxlen=85)\n",
        "    prediction=model.predict([tf.expand_dims(protein_padded,axis=-1),\n",
        "                            tf.expand_dims(smiles_padded,axis=-1)])\n",
        "    return prediction"
      ],
      "metadata": {
        "id": "FDBwCLr4ZLlw"
      },
      "execution_count": null,
      "outputs": []
    },
    {
      "cell_type": "code",
      "source": [
        "prediction_or1=predictpkd(list_or1,smiles_list)\n",
        "df_prect_or1 =cocodata.copy()\n",
        "df_prect_or1[\"affinity\"] = prediction_or1\n",
        "df_prect_or1 = df_prect_or1.sort_values(by = 'affinity', ascending=False)\n",
        "df_prect_or1.to_csv('df_prect_or1.csv')\n",
        "df_top20_or1= df_prect_or1.head(20)\n",
        "df_top20_or1.to_csv('df_top20_or1.csv')"
      ],
      "metadata": {
        "id": "kHKtKmb-PYPi"
      },
      "execution_count": null,
      "outputs": []
    },
    {
      "cell_type": "code",
      "source": [
        "prediction_or2=predictpkd(list_or2,smiles_list)\n",
        "df_prect_or2 =cocodata.copy()\n",
        "df_prect_or2[\"affinity\"] = prediction_or2\n",
        "df_prect_or2 = df_prect_or2.sort_values(by = 'affinity', ascending=False)\n",
        "df_prect_or2.to_csv('df_prect_or2.csv')\n",
        "df_top20_or2= df_prect_or2.head(20)\n",
        "df_top20_or2.to_csv('df_top20_or2.csv')"
      ],
      "metadata": {
        "id": "GAxdYBfMZ9V_"
      },
      "execution_count": null,
      "outputs": []
    },
    {
      "cell_type": "code",
      "source": [
        "prediction_or3=predictpkd(list_or3,smiles_list)\n",
        "df_prect_or3 =cocodata.copy()\n",
        "df_prect_or3[\"affinity\"] = prediction_or3\n",
        "df_prect_or3 = df_prect_or3.sort_values(by = 'affinity', ascending=False)\n",
        "df_prect_or3.to_csv('df_prect_or3.csv')\n",
        "df_top20_or3= df_prect_or3.head(20)\n",
        "df_top20_or3.to_csv('df_top20_or3.csv')\n"
      ],
      "metadata": {
        "id": "qa7NpyNCaAzM"
      },
      "execution_count": null,
      "outputs": []
    },
    {
      "cell_type": "code",
      "source": [
        "prediction_or4=predictpkd(list_or4,smiles_list)\n",
        "df_prect_or4 =cocodata.copy()\n",
        "df_prect_or4[\"affinity\"] = prediction_or4\n",
        "df_prect_or4 = df_prect_or4.sort_values(by = 'affinity', ascending=False)\n",
        "df_prect_or4.to_csv('df_prect_or4.csv')\n",
        "df_top20_or4= df_prect_or4.head(20)\n",
        "df_top20_or4.to_csv('df_top20_or4.csv')\n"
      ],
      "metadata": {
        "id": "BpuZWti-aDOX"
      },
      "execution_count": null,
      "outputs": []
    },
    {
      "cell_type": "markdown",
      "source": [
        "**For docking**"
      ],
      "metadata": {
        "id": "8gHhDZxuTs7O"
      }
    },
    {
      "cell_type": "code",
      "source": [
        "common_id = list(reduce(set.intersection, map(set, [df_top20_or1.coconut_id, df_top20_or2.coconut_id,\n",
        "                                          df_top20_or3.coconut_id,df_top20_or4.coconut_id])))\n",
        "\n",
        "df_common =cocodata.loc[cocodata[\"coconut_id\"].isin(common_id)]\n",
        "df_common.to_csv('mol_common_to_all_4.csv')"
      ],
      "metadata": {
        "id": "g6I0ZfCbTsgd"
      },
      "execution_count": null,
      "outputs": []
    }
  ]
}